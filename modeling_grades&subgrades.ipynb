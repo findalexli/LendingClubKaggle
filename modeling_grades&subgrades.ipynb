{
  "nbformat": 4,
  "nbformat_minor": 0,
  "metadata": {
    "accelerator": "GPU",
    "colab": {
      "name": "modeling_grades&subgrades.ipynb",
      "version": "0.3.2",
      "provenance": [],
      "collapsed_sections": [],
      "toc_visible": true
    },
    "kernelspec": {
      "display_name": "Python 3",
      "language": "python",
      "name": "python3"
    },
    "language_info": {
      "codemirror_mode": {
        "name": "ipython",
        "version": 3
      },
      "file_extension": ".py",
      "mimetype": "text/x-python",
      "name": "python",
      "nbconvert_exporter": "python",
      "pygments_lexer": "ipython3",
      "version": "3.7.3"
    }
  },
  "cells": [
    {
      "cell_type": "markdown",
      "metadata": {
        "id": "8Z4qnE478oSk",
        "colab_type": "text"
      },
      "source": [
        "Continuation of work after data cleaning, feature enginnering and modeling of loan status. \n",
        "\n",
        "Disclaimer: This notebook and the work is done from a late Monday evening to early Tuesday morning before sunrise, with multiple cloud instances running to be able to show results. So there might be inconsistencies, typos. But I tried to recreate my workflow and the state of my mind closely, even including a interesting side note about not being able to use LightGBM GPU docker and submitting a pull request "
      ]
    },
    {
      "cell_type": "markdown",
      "metadata": {
        "id": "rPdT2xvrxuX7",
        "colab_type": "text"
      },
      "source": [
        "# Grade Modeling"
      ]
    },
    {
      "cell_type": "code",
      "metadata": {
        "id": "nBtoT0H0xuX8",
        "colab_type": "code",
        "colab": {}
      },
      "source": [
        "import numpy as np # linear algebra\n",
        "import pandas as pd # data processing, CSV file I/O (e.g. pd.read_csv)\n",
        "import matplotlib.pyplot as plt \n",
        "import seaborn as sns"
      ],
      "execution_count": 0,
      "outputs": []
    },
    {
      "cell_type": "code",
      "metadata": {
        "id": "wcUOHZ7vxuX_",
        "colab_type": "code",
        "colab": {}
      },
      "source": [
        "df = pd.read_pickle('0930SundayUntitled')"
      ],
      "execution_count": 0,
      "outputs": []
    },
    {
      "cell_type": "code",
      "metadata": {
        "id": "WQPsvI8xxuYB",
        "colab_type": "code",
        "colab": {}
      },
      "source": [
        "df['last_pymnt_d'] = df['last_pymnt_d'].dt.strftime('%Y-%m')\n",
        "df['issue_d'] =df['issue_d'].dt.strftime('%Y-%m')\n",
        "df['last_credit_pull_d']=df['last_credit_pull_d'].dt.strftime('%Y-%m')\n",
        "df['earliest_cr_line']=df['earliest_cr_line'].dt.strftime('%Y-%m')"
      ],
      "execution_count": 0,
      "outputs": []
    },
    {
      "cell_type": "code",
      "metadata": {
        "id": "d1alrewaxuYD",
        "colab_type": "code",
        "colab": {}
      },
      "source": [
        "df.info()"
      ],
      "execution_count": 0,
      "outputs": []
    },
    {
      "cell_type": "markdown",
      "metadata": {
        "id": "nQI5Cy5IxuYF",
        "colab_type": "text"
      },
      "source": [
        "** Let us convert the grades and subgrades into numerical categories **"
      ]
    },
    {
      "cell_type": "code",
      "metadata": {
        "id": "0j2wkFNWxuYG",
        "colab_type": "code",
        "colab": {}
      },
      "source": [
        "factor_grade = pd.factorize(df['grade'])\n",
        "factor_grade"
      ],
      "execution_count": 0,
      "outputs": []
    },
    {
      "cell_type": "code",
      "metadata": {
        "id": "gMiuCywgxuYK",
        "colab_type": "code",
        "colab": {}
      },
      "source": [
        "df['grade'] = factor_grade[0]"
      ],
      "execution_count": 0,
      "outputs": []
    },
    {
      "cell_type": "code",
      "metadata": {
        "id": "QPTujh75xuYN",
        "colab_type": "code",
        "colab": {}
      },
      "source": [
        "factor_subgrade = pd.factorize(df['sub_grade'])\n",
        "factor_subgrade"
      ],
      "execution_count": 0,
      "outputs": []
    },
    {
      "cell_type": "code",
      "metadata": {
        "id": "mBYtWFcPxuYP",
        "colab_type": "code",
        "colab": {}
      },
      "source": [
        "df['sub_grade'] = factor_subgrade[0]"
      ],
      "execution_count": 0,
      "outputs": []
    },
    {
      "cell_type": "code",
      "metadata": {
        "id": "2Z8Y0hg6xuYR",
        "colab_type": "code",
        "colab": {}
      },
      "source": [
        "df.select_dtypes(exclude=[np.number]).head()"
      ],
      "execution_count": 0,
      "outputs": []
    },
    {
      "cell_type": "markdown",
      "metadata": {
        "id": "bnnF_e5uxuYV",
        "colab_type": "text"
      },
      "source": [
        "We see that the term of the loan is still in string/object format, let us convert that into int"
      ]
    },
    {
      "cell_type": "code",
      "metadata": {
        "id": "_jTlE2qBxuYV",
        "colab_type": "code",
        "colab": {}
      },
      "source": [
        "df['term'].replace(to_replace='[^0-9]+', value='', inplace=True, regex=True)\n",
        "df['term']=df['term'].astype(int)"
      ],
      "execution_count": 0,
      "outputs": []
    },
    {
      "cell_type": "markdown",
      "metadata": {
        "id": "TkXaZgUnxuYX",
        "colab_type": "text"
      },
      "source": [
        "Check if 'term' is properly converted"
      ]
    },
    {
      "cell_type": "code",
      "metadata": {
        "id": "R9PBP0V7xuYY",
        "colab_type": "code",
        "colab": {}
      },
      "source": [
        "df['term'].head()"
      ],
      "execution_count": 0,
      "outputs": []
    },
    {
      "cell_type": "markdown",
      "metadata": {
        "id": "FJ4-VpCSxuYa",
        "colab_type": "text"
      },
      "source": [
        "We remember that we converted emp_length. Check if it is in int format, if not, convert it to int"
      ]
    },
    {
      "cell_type": "code",
      "metadata": {
        "id": "bwyf4G9YxuYa",
        "colab_type": "code",
        "colab": {}
      },
      "source": [
        "df['emp_length'].head()"
      ],
      "execution_count": 0,
      "outputs": []
    },
    {
      "cell_type": "code",
      "metadata": {
        "id": "9Crl5oOuxuYc",
        "colab_type": "code",
        "colab": {}
      },
      "source": [
        "df['emp_length']= df['emp_length'].astype(int)"
      ],
      "execution_count": 0,
      "outputs": []
    },
    {
      "cell_type": "code",
      "metadata": {
        "id": "H9nwfK5PxuYd",
        "colab_type": "code",
        "colab": {}
      },
      "source": [
        "df.select_dtypes(object).columns"
      ],
      "execution_count": 0,
      "outputs": []
    },
    {
      "cell_type": "code",
      "metadata": {
        "id": "55nDSACTxuYf",
        "colab_type": "code",
        "colab": {}
      },
      "source": [
        "from sklearn import preprocessing\n",
        "count = 0\n",
        "\n",
        "for col in df:\n",
        "    if df[col].dtype == 'object':\n",
        "        if len(list(df[col].unique())) <= 2:     \n",
        "            le = preprocessing.LabelEncoder()\n",
        "            df[col] = le.fit_transform(df[col])\n",
        "            count += 1\n",
        "            print (col)\n",
        "            \n",
        "print('%d columns were label encoded.' % count)"
      ],
      "execution_count": 0,
      "outputs": []
    },
    {
      "cell_type": "code",
      "metadata": {
        "id": "RVGY_9NpxuYi",
        "colab_type": "code",
        "colab": {}
      },
      "source": [
        "df.select_dtypes(object).columns"
      ],
      "execution_count": 0,
      "outputs": []
    },
    {
      "cell_type": "markdown",
      "metadata": {
        "id": "k-0GAYUPxuYk",
        "colab_type": "text"
      },
      "source": [
        "For object columsn with more than 2 classes, we shall use one hot encoding instead. If we were to apply label encoding for multi class objects, we would potentailly make the system think that there is order between 0, 1, and 2, etc. as representation type. "
      ]
    },
    {
      "cell_type": "code",
      "metadata": {
        "id": "s05HvNxpxuYl",
        "colab_type": "code",
        "colab": {}
      },
      "source": [
        "df = pd.get_dummies(df)\n",
        "print(df.shape)"
      ],
      "execution_count": 0,
      "outputs": []
    },
    {
      "cell_type": "markdown",
      "metadata": {
        "id": "nmwOSnyMxuYn",
        "colab_type": "text"
      },
      "source": [
        "We now fill in the null values with zero in place"
      ]
    },
    {
      "cell_type": "code",
      "metadata": {
        "id": "PIoRzYVNxuYn",
        "colab_type": "code",
        "colab": {}
      },
      "source": [
        "df.dropna(inplace=True)"
      ],
      "execution_count": 0,
      "outputs": []
    },
    {
      "cell_type": "code",
      "metadata": {
        "id": "y8eL8M8VxuYq",
        "colab_type": "code",
        "colab": {}
      },
      "source": [
        "df.to_pickle('Before_Modeling_Grades')"
      ],
      "execution_count": 0,
      "outputs": []
    },
    {
      "cell_type": "markdown",
      "metadata": {
        "id": "QZ70X0sgxuYt",
        "colab_type": "text"
      },
      "source": [
        "## Modeling\n",
        "\n",
        "Note that loan status can be included in the features, and I do not consider it a data leakage program since in reality, we always have the loan status in hand. Our goal is to reproduce the grading system that Lending Club uses. "
      ]
    },
    {
      "cell_type": "markdown",
      "metadata": {
        "id": "AXwT425UxuYu",
        "colab_type": "text"
      },
      "source": [
        "### 1. Bagging"
      ]
    },
    {
      "cell_type": "code",
      "metadata": {
        "id": "nWu7R0DcxuYv",
        "colab_type": "code",
        "colab": {}
      },
      "source": [
        "df.read_pickle('Before_Modeling_Grades')"
      ],
      "execution_count": 0,
      "outputs": []
    },
    {
      "cell_type": "code",
      "metadata": {
        "id": "5EzuBJExxuYw",
        "colab_type": "code",
        "colab": {}
      },
      "source": [
        "df.drop('sub_grade', axis =1)"
      ],
      "execution_count": 0,
      "outputs": []
    },
    {
      "cell_type": "code",
      "metadata": {
        "id": "KSnO3MaVxuYy",
        "colab_type": "code",
        "colab": {}
      },
      "source": [
        "import pandas as pd\n",
        "from sklearn.ensemble import RandomForestClassifier\n",
        "from sklearn.model_selection import cross_val_score, cross_val_predict\n",
        "from sklearn.metrics import accuracy_score, classification_report, confusion_matrix\n",
        "import gc"
      ],
      "execution_count": 0,
      "outputs": []
    },
    {
      "cell_type": "code",
      "metadata": {
        "id": "V18H-8mgxuYz",
        "colab_type": "code",
        "colab": {}
      },
      "source": [
        "def print_score(clf, X_train, y_train, X_test, y_test, train=True):\n",
        "    if train:\n",
        "        print(\"Train Result:\\n\")\n",
        "        print(\"accuracy score: {0:.4f}\\n\".format(accuracy_score(y_train, clf.predict(X_train))))\n",
        "        print(\"Classification Report: \\n {}\\n\".format(classification_report(y_train, clf.predict(X_train))))\n",
        "        print(\"Confusion Matrix: \\n {}\\n\".format(confusion_matrix(y_train, clf.predict(X_train))))\n",
        "\n",
        "        res = cross_val_score(clf, X_train, y_train, cv=10, scoring='accuracy')\n",
        "        print(\"Average Accuracy: \\t {0:.4f}\".format(np.mean(res)))\n",
        "        print(\"Accuracy SD: \\t\\t {0:.4f}\".format(np.std(res)))\n",
        "        \n",
        "    elif train==False:\n",
        "        print(\"Test Result:\\n\")        \n",
        "        print(\"accuracy score: {0:.4f}\\n\".format(accuracy_score(y_test, clf.predict(X_test))))\n",
        "        print(\"Classification Report: \\n {}\\n\".format(classification_report(y_test, clf.predict(X_test))))\n",
        "        print(\"Confusion Matrix: \\n {}\\n\".format(confusion_matrix(y_test, clf.predict(X_test))))    \n",
        "        "
      ],
      "execution_count": 0,
      "outputs": []
    },
    {
      "cell_type": "code",
      "metadata": {
        "id": "6PXlWzcJxuY1",
        "colab_type": "code",
        "colab": {}
      },
      "source": [
        "from sklearn.model_selection import train_test_split"
      ],
      "execution_count": 0,
      "outputs": []
    },
    {
      "cell_type": "code",
      "metadata": {
        "id": "xYZd7Yc3xuY2",
        "colab_type": "code",
        "colab": {}
      },
      "source": [
        "X_train, X_test, y_train, y_test = train_test_split(df.drop('grade',axis=1),df['grade'],test_size=0.15,random_state=101)"
      ],
      "execution_count": 0,
      "outputs": []
    },
    {
      "cell_type": "code",
      "metadata": {
        "id": "je_89HDSxuY4",
        "colab_type": "code",
        "outputId": "5f6b87dc-416b-45b3-b06b-47f5b5d1dffe",
        "colab": {}
      },
      "source": [
        "gc.collect()"
      ],
      "execution_count": 0,
      "outputs": [
        {
          "output_type": "execute_result",
          "data": {
            "text/plain": [
              "8783"
            ]
          },
          "metadata": {
            "tags": []
          },
          "execution_count": 12
        }
      ]
    },
    {
      "cell_type": "code",
      "metadata": {
        "id": "-1eEwECnxuY8",
        "colab_type": "code",
        "colab": {}
      },
      "source": [
        "from sklearn.preprocessing import StandardScaler"
      ],
      "execution_count": 0,
      "outputs": []
    },
    {
      "cell_type": "code",
      "metadata": {
        "id": "VQ49QJfdxuY9",
        "colab_type": "code",
        "outputId": "2e094a75-afcd-4211-ed05-7b00a029d8a6",
        "colab": {}
      },
      "source": [
        "sc = StandardScaler()\n",
        "X_train = sc.fit_transform(X_train)\n",
        "X_test=sc.transform(X_test)"
      ],
      "execution_count": 0,
      "outputs": [
        {
          "output_type": "stream",
          "text": [
            "/opt/anaconda3/lib/python3.7/site-packages/sklearn/preprocessing/data.py:625: DataConversionWarning: Data with input dtype uint8, int64, float64 were all converted to float64 by StandardScaler.\n",
            "  return self.partial_fit(X, y)\n",
            "/opt/anaconda3/lib/python3.7/site-packages/sklearn/base.py:462: DataConversionWarning: Data with input dtype uint8, int64, float64 were all converted to float64 by StandardScaler.\n",
            "  return self.fit(X, **fit_params).transform(X)\n",
            "/opt/anaconda3/lib/python3.7/site-packages/ipykernel_launcher.py:3: DataConversionWarning: Data with input dtype uint8, int64, float64 were all converted to float64 by StandardScaler.\n",
            "  This is separate from the ipykernel package so we can avoid doing imports until\n"
          ],
          "name": "stderr"
        }
      ]
    },
    {
      "cell_type": "code",
      "metadata": {
        "id": "Hwe73fTGxuZA",
        "colab_type": "code",
        "colab": {}
      },
      "source": [
        "from sklearn.ensemble import RandomForestClassifier"
      ],
      "execution_count": 0,
      "outputs": []
    },
    {
      "cell_type": "code",
      "metadata": {
        "id": "yXMSsBTPxuZC",
        "colab_type": "code",
        "outputId": "9fc06c0b-987f-42ac-ea3f-63704b8b3b04",
        "colab": {}
      },
      "source": [
        "clf_rf = RandomForestClassifier(n_estimators=10, random_state=21) # I changed it to 10 for faster training time\n",
        "clf_rf.fit(X_train, y_train)"
      ],
      "execution_count": 0,
      "outputs": [
        {
          "output_type": "execute_result",
          "data": {
            "text/plain": [
              "RandomForestClassifier(bootstrap=True, class_weight=None, criterion='gini',\n",
              "            max_depth=None, max_features='auto', max_leaf_nodes=None,\n",
              "            min_impurity_decrease=0.0, min_impurity_split=None,\n",
              "            min_samples_leaf=1, min_samples_split=2,\n",
              "            min_weight_fraction_leaf=0.0, n_estimators=10, n_jobs=None,\n",
              "            oob_score=False, random_state=21, verbose=0, warm_start=False)"
            ]
          },
          "metadata": {
            "tags": []
          },
          "execution_count": 16
        }
      ]
    },
    {
      "cell_type": "code",
      "metadata": {
        "id": "nyBo835YxuZE",
        "colab_type": "code",
        "outputId": "2eb1ce90-7318-4458-c025-0effb00ff164",
        "colab": {}
      },
      "source": [
        "print_score(clf_rf, X_train, y_train, X_test, y_test, train=False)"
      ],
      "execution_count": 0,
      "outputs": [
        {
          "output_type": "stream",
          "text": [
            "Test Result:\n",
            "\n",
            "accuracy score: 0.7605\n",
            "\n",
            "Classification Report: \n",
            "               precision    recall  f1-score   support\n",
            "\n",
            "           0       0.69      0.88      0.77     94286\n",
            "           1       0.60      0.51      0.56     46374\n",
            "           2       0.82      0.86      0.84     94793\n",
            "           3       0.96      0.86      0.91     62402\n",
            "           4       0.49      0.22      0.30     19194\n",
            "           5       0.47      0.08      0.13      5807\n",
            "           6       0.42      0.01      0.02      1668\n",
            "\n",
            "   micro avg       0.76      0.76      0.76    324524\n",
            "   macro avg       0.64      0.49      0.50    324524\n",
            "weighted avg       0.75      0.76      0.74    324524\n",
            "\n",
            "\n",
            "Confusion Matrix: \n",
            " [[83121  3432  7304   257   164     8     0]\n",
            " [19081 23837  1443    60  1880    72     1]\n",
            " [10969   349 81431  2032    12     0     0]\n",
            " [  585    37  8009 53771     0     0     0]\n",
            " [ 5346  8971   426    10  4169   267     5]\n",
            " [ 1276  2194    66     2  1801   449    19]\n",
            " [  304   594    30     1   556   165    18]]\n",
            "\n"
          ],
          "name": "stdout"
        }
      ]
    },
    {
      "cell_type": "markdown",
      "metadata": {
        "id": "Yqz5T48HxuZF",
        "colab_type": "text"
      },
      "source": [
        "### 2. Boosting"
      ]
    },
    {
      "cell_type": "code",
      "metadata": {
        "id": "pu6rXPMhxuZG",
        "colab_type": "code",
        "colab": {}
      },
      "source": [
        "import numpy as np # linear algebra\n",
        "import pandas as pd # data processing, CSV file I/O (e.g. pd.read_csv)\n",
        "import matplotlib.pyplot as plt \n",
        "import seaborn as sns\n",
        "from sklearn.metrics import roc_auc_score, roc_curve\n",
        "from sklearn.model_selection import KFold, StratifiedKFold\n",
        "from lightgbm import LGBMClassifier\n",
        "import numpy as np\n",
        "import matplotlib.pyplot as plt \n",
        "import seaborn as sns\n",
        "import gc\n",
        "from sklearn.model_selection import cross_val_score, cross_val_predict\n",
        "from sklearn.metrics import accuracy_score, classification_report, confusion_matrix"
      ],
      "execution_count": 0,
      "outputs": []
    },
    {
      "cell_type": "code",
      "metadata": {
        "id": "kLIA08DzxuZI",
        "colab_type": "code",
        "colab": {}
      },
      "source": [
        "df=pd.read_pickle('Before_Modeling_Grades')\n",
        "df = df.drop('sub_grade', axis =1)"
      ],
      "execution_count": 0,
      "outputs": []
    },
    {
      "cell_type": "code",
      "metadata": {
        "id": "PjSucHskxuZK",
        "colab_type": "code",
        "colab": {}
      },
      "source": [
        "def kfold_lightgbm(train_df, num_folds, stratified = False):\n",
        "    print(\"Starting LightGBM. Train shape: {}\".format(train_df.shape))\n",
        "    \n",
        "    # Cross validation model\n",
        "    if stratified:\n",
        "        folds = StratifiedKFold(n_splits= num_folds, shuffle=True, random_state=47)\n",
        "    else:\n",
        "        folds = KFold(n_splits= num_folds, shuffle=True, random_state=47)\n",
        "\n",
        "    oof_preds = np.zeros(train_df.shape[0])\n",
        "\n",
        "    feature_importance_df = pd.DataFrame()\n",
        "    feats = [f for f in train_df.columns if f not in ['grade']]\n",
        "    \n",
        "    # Splitting the training set into folds for Cross Validation\n",
        "    for n_fold, (train_idx, valid_idx) in enumerate(folds.split(train_df[feats], train_df['grade'])):\n",
        "        train_x, train_y = train_df[feats].iloc[train_idx], train_df['grade'].iloc[train_idx]\n",
        "        valid_x, valid_y = train_df[feats].iloc[valid_idx], train_df['grade'].iloc[valid_idx]\n",
        "\n",
        "        # LightGBM parameters found by Bayesian optimization\n",
        "        clf = LGBMClassifier(\n",
        "            nthread=12,#previous number 4\n",
        "            n_estimators=100, # Previous number 10000\n",
        "            learning_rate=0.1,\n",
        "            num_leaves=32,\n",
        "            colsample_bytree=0.9497036,\n",
        "            subsample=0.8715623,\n",
        "            max_depth=8,\n",
        "            reg_alpha=0.04,\n",
        "            reg_lambda=0.073,\n",
        "            min_split_gain=0.0222415,\n",
        "            min_child_weight=40,\n",
        "            silent=-1,\n",
        "            verbose=-1\n",
        "            #device= 'gpu',gpu_platform_id= 0,gpu_device_id= 0\n",
        "            )\n",
        "\n",
        "        # Fitting the model and evaluating by AUC\n",
        "        clf.fit(train_x, train_y, eval_set=[(train_x, train_y), (valid_x, valid_y)], \n",
        "            eval_metric= 'logloss', verbose= 1000, early_stopping_rounds= 200)\n",
        "        print_score(clf, train_x, train_y, valid_x, valid_y, train=False)\n",
        "        # Dataframe holding the different features and their importance\n",
        "        fold_importance_df = pd.DataFrame()\n",
        "        fold_importance_df[\"feature\"] = feats\n",
        "        fold_importance_df[\"importance\"] = clf.feature_importances_\n",
        "        fold_importance_df[\"fold\"] = n_fold + 1\n",
        "        feature_importance_df = pd.concat([feature_importance_df, fold_importance_df], axis=0)\n",
        "        \n",
        "        # Freeing up memory\n",
        "        del clf, train_x, train_y, valid_x, valid_y\n",
        "        gc.collect()\n",
        "\n",
        "    display_importances(feature_importance_df)\n",
        "    return feature_importance_df"
      ],
      "execution_count": 0,
      "outputs": []
    },
    {
      "cell_type": "code",
      "metadata": {
        "id": "tGfSrwg0xuZL",
        "colab_type": "code",
        "colab": {}
      },
      "source": [
        "def print_score(clf, X_train, y_train, X_test, y_test, train=True):\n",
        "    if train:\n",
        "        print(\"Train Result:\\n\")\n",
        "        print(\"accuracy score: {0:.4f}\\n\".format(accuracy_score(y_train, clf.predict(X_train))))\n",
        "        print(\"Classification Report: \\n {}\\n\".format(classification_report(y_train, clf.predict(X_train))))\n",
        "        print(\"Confusion Matrix: \\n {}\\n\".format(confusion_matrix(y_train, clf.predict(X_train))))\n",
        "\n",
        "        res = cross_val_score(clf, X_train, y_train, cv=10, scoring='accuracy')\n",
        "        print(\"Average Accuracy: \\t {0:.4f}\".format(np.mean(res)))\n",
        "        print(\"Accuracy SD: \\t\\t {0:.4f}\".format(np.std(res)))\n",
        "        \n",
        "    elif train==False:\n",
        "        print(\"Test Result:\\n\")        \n",
        "        print(\"accuracy score: {0:.4f}\\n\".format(accuracy_score(y_test, clf.predict(X_test))))\n",
        "        print(\"Classification Report: \\n {}\\n\".format(classification_report(y_test, clf.predict(X_test))))\n",
        "        print(\"Confusion Matrix: \\n {}\\n\".format(confusion_matrix(y_test, clf.predict(X_test))))  "
      ],
      "execution_count": 0,
      "outputs": []
    },
    {
      "cell_type": "code",
      "metadata": {
        "id": "ID63baJLxuZN",
        "colab_type": "code",
        "colab": {}
      },
      "source": [
        "def display_importances(feature_importance_df_):\n",
        "    cols = feature_importance_df_[[\"feature\", \"importance\"]].groupby(\"feature\").mean().sort_values(by=\"importance\", ascending=False)[:40].index\n",
        "    best_features = feature_importance_df_.loc[feature_importance_df_.feature.isin(cols)]\n",
        "    plt.figure(figsize=(15, 12))\n",
        "    sns.barplot(x=\"importance\", y=\"feature\", data=best_features.sort_values(by=\"importance\", ascending=False))\n",
        "    plt.title('LightGBM Features (avg over folds)')\n",
        "    plt.tight_layout()\n",
        "    plt.savefig('lgbm_importances.png')"
      ],
      "execution_count": 0,
      "outputs": []
    },
    {
      "cell_type": "code",
      "metadata": {
        "id": "c4QCMIuSxuZQ",
        "colab_type": "code",
        "outputId": "300a9dcd-72ff-4ddb-e4aa-2d6fb98bb9f1",
        "colab": {}
      },
      "source": [
        "feat_importance = kfold_lightgbm(df, num_folds= 3, stratified= False)"
      ],
      "execution_count": 0,
      "outputs": [
        {
          "output_type": "stream",
          "text": [
            "Starting LightGBM. Train shape: (2163488, 1317)\n",
            "Training until validation scores don't improve for 200 rounds.\n",
            "[1000]\ttraining's multi_logloss: 0.0028125\ttraining's multi_logloss: 0.0028125\tvalid_1's multi_logloss: 0.00508117\tvalid_1's multi_logloss: 0.00508117\n",
            "Did not meet early stopping. Best iteration is:\n",
            "[1000]\ttraining's multi_logloss: 0.0028125\ttraining's multi_logloss: 0.0028125\tvalid_1's multi_logloss: 0.00508117\tvalid_1's multi_logloss: 0.00508117\n",
            "Test Result:\n",
            "\n",
            "accuracy score: 0.9986\n",
            "\n",
            "Classification Report: \n",
            "               precision    recall  f1-score   support\n",
            "\n",
            "           0       1.00      1.00      1.00    209325\n",
            "           1       1.00      1.00      1.00    103212\n",
            "           2       1.00      1.00      1.00    211657\n",
            "           3       1.00      1.00      1.00    137587\n",
            "           4       0.99      1.00      1.00     42575\n",
            "           5       0.99      0.99      0.99     13062\n",
            "           6       0.98      0.96      0.97      3745\n",
            "\n",
            "   micro avg       1.00      1.00      1.00    721163\n",
            "   macro avg       0.99      0.99      0.99    721163\n",
            "weighted avg       1.00      1.00      1.00    721163\n",
            "\n",
            "\n",
            "Confusion Matrix: \n",
            " [[209149    122     41      5      8      0      0]\n",
            " [    56 102993      4      2    157      0      0]\n",
            " [   104      3 211520     26      4      0      0]\n",
            " [     1      1      6 137579      0      0      0]\n",
            " [     7     99      0      1  42415     51      2]\n",
            " [     0      2      0      0     72  12910     78]\n",
            " [     0      0      0      0      7    135   3603]]\n",
            "\n",
            "Training until validation scores don't improve for 200 rounds.\n",
            "[1000]\ttraining's multi_logloss: 0.00263011\ttraining's multi_logloss: 0.00263011\tvalid_1's multi_logloss: 0.00482896\tvalid_1's multi_logloss: 0.00482896\n",
            "Did not meet early stopping. Best iteration is:\n",
            "[1000]\ttraining's multi_logloss: 0.00263011\ttraining's multi_logloss: 0.00263011\tvalid_1's multi_logloss: 0.00482896\tvalid_1's multi_logloss: 0.00482896\n",
            "Test Result:\n",
            "\n",
            "accuracy score: 0.9988\n",
            "\n",
            "Classification Report: \n",
            "               precision    recall  f1-score   support\n",
            "\n",
            "           0       1.00      1.00      1.00    208644\n",
            "           1       1.00      1.00      1.00    103404\n",
            "           2       1.00      1.00      1.00    211804\n",
            "           3       1.00      1.00      1.00    137763\n",
            "           4       0.99      1.00      1.00     42858\n",
            "           5       0.99      0.99      0.99     12948\n",
            "           6       0.99      0.97      0.98      3742\n",
            "\n",
            "   micro avg       1.00      1.00      1.00    721163\n",
            "   macro avg       1.00      0.99      0.99    721163\n",
            "weighted avg       1.00      1.00      1.00    721163\n",
            "\n",
            "\n",
            "Confusion Matrix: \n",
            " [[208507     84     43      5      5      0      0]\n",
            " [    30 103225      5      1    143      0      0]\n",
            " [   134      1 211654     14      1      0      0]\n",
            " [     3      0      9 137750      1      0      0]\n",
            " [     5    124      7      0  42665     51      6]\n",
            " [     2      4      0      0     70  12846     26]\n",
            " [     0      4      0      0     14     97   3627]]\n",
            "\n",
            "Training until validation scores don't improve for 200 rounds.\n",
            "[1000]\ttraining's multi_logloss: 0.00276678\ttraining's multi_logloss: 0.00276678\tvalid_1's multi_logloss: 0.00515879\tvalid_1's multi_logloss: 0.00515879\n",
            "Did not meet early stopping. Best iteration is:\n",
            "[1000]\ttraining's multi_logloss: 0.00276678\ttraining's multi_logloss: 0.00276678\tvalid_1's multi_logloss: 0.00515879\tvalid_1's multi_logloss: 0.00515879\n",
            "Test Result:\n",
            "\n",
            "accuracy score: 0.9986\n",
            "\n",
            "Classification Report: \n",
            "               precision    recall  f1-score   support\n",
            "\n",
            "           0       1.00      1.00      1.00    209083\n",
            "           1       1.00      1.00      1.00    102822\n",
            "           2       1.00      1.00      1.00    211557\n",
            "           3       1.00      1.00      1.00    138042\n",
            "           4       0.99      1.00      1.00     42819\n",
            "           5       0.98      0.99      0.98     13073\n",
            "           6       0.97      0.96      0.96      3766\n",
            "\n",
            "   micro avg       1.00      1.00      1.00    721162\n",
            "   macro avg       0.99      0.99      0.99    721162\n",
            "weighted avg       1.00      1.00      1.00    721162\n",
            "\n",
            "\n",
            "Confusion Matrix: \n",
            " [[208920     96     47     13      7      0      0]\n",
            " [    49 102612      3      3    155      0      0]\n",
            " [    94      1 211435     27      0      0      0]\n",
            " [     3      1     12 138026      0      0      0]\n",
            " [     4    105      5      1  42650     53      1]\n",
            " [     1      3      0      0     57  12884    128]\n",
            " [     1      2      0      0     12    152   3599]]\n",
            "\n"
          ],
          "name": "stdout"
        },
        {
          "output_type": "stream",
          "text": [
            "/opt/anaconda3/lib/python3.7/site-packages/scipy/stats/stats.py:1713: FutureWarning: Using a non-tuple sequence for multidimensional indexing is deprecated; use `arr[tuple(seq)]` instead of `arr[seq]`. In the future this will be interpreted as an array index, `arr[np.array(seq)]`, which will result either in an error or a different result.\n",
            "  return np.add.reduce(sorted[indexer] * weights, axis=axis) / sumval\n"
          ],
          "name": "stderr"
        },
        {
          "output_type": "display_data",
          "data": {
            "image/png": "[encoded data removed]",
            "text/plain": [
              "<Figure size 1080x864 with 1 Axes>"
            ]
          },
          "metadata": {
            "tags": [],
            "needs_background": "light"
          }
        }
      ]
    },
    {
      "cell_type": "markdown",
      "metadata": {
        "id": "ja9Qqd3E0YFM",
        "colab_type": "text"
      },
      "source": [
        "\n",
        "\n",
        "\n",
        "\n",
        "\n",
        "\n",
        "\n",
        "\n",
        "\n",
        "\n",
        "\n",
        "\n",
        "We use **htop** in command line to monitor the cpu usage. To our delight, LightGBM is able to multi thread since we set the number of threads to be 12, and our **12-core** CPU were all used at full during training. However, the wait time is still very, very long\n",
        "\n",
        "![alt text](https://storage.googleapis.com/lendingclubkaggle/LightGBMcpu.jpg)"
      ]
    },
    {
      "cell_type": "markdown",
      "metadata": {
        "id": "ZLdcf3mrxuZS",
        "colab_type": "text"
      },
      "source": [
        "In the mean time for training, this is what I started doing\n",
        "\n",
        "1. Grabed some water, preferably sparkling water\n",
        "2. Started another jupyter notebook for subgrade modeling, with the knowledge that not all Google Cloud 12 Cores are being used. Run the bagging for subgrades. \n",
        "3. While waiting for (2). Started another instance trying to do lightGBM on a gpu. This is based on a docker file of lightGBM on gpu https://github.com/microsoft/LightGBM/tree/master/docker/gpu. Starting an PyTorch from NVIDIA Google Cloud instance with nv-docker from Google CloudThis is a new instance based on the docker file of LightGBM on GPU provided in the official github. \n",
        "\n",
        " Side note: I encountered many problem installing the docker file, mostly a conda yes/no question, and I figured out a better way to do that. I ended up submitting a **[pull request](https://github.com/microsoft/LightGBM/pull/2279\n",
        ")** to the LightGBM hosted by Microsoft. But even after the pull request, the docker is not set up properly as the preinstalled pandas version is too old to even read our pickle file. We spent 1-hour installing a new, clean environment with useable pandas, which also made the LightBGM-on-GPU not callable. We did not pursue further"
      ]
    },
    {
      "cell_type": "markdown",
      "metadata": {
        "id": "BQDz6AAN4wMH",
        "colab_type": "text"
      },
      "source": [
        "### Fast.AI  neural nets\n"
      ]
    },
    {
      "cell_type": "code",
      "metadata": {
        "colab_type": "code",
        "id": "6GT9zYmTVXNH",
        "outputId": "306fe554-6e79-4076-a3dc-2fd46d66e4f9",
        "colab": {
          "base_uri": "https://localhost:8080/",
          "height": 227
        }
      },
      "source": [
        "!wget https://storage.googleapis.com/lendingclubkaggle/0930SundayUntitled"
      ],
      "execution_count": 0,
      "outputs": [
        {
          "output_type": "stream",
          "text": [
            "--2019-07-23 10:25:53--  https://storage.googleapis.com/lendingclubkaggle/0930SundayUntitled\n",
            "Resolving storage.googleapis.com (storage.googleapis.com)... 108.177.111.128, 2607:f8b0:4001:c03::80\n",
            "Connecting to storage.googleapis.com (storage.googleapis.com)|108.177.111.128|:443... connected.\n",
            "HTTP request sent, awaiting response... 200 OK\n",
            "Length: 1402154085 (1.3G) [application/octet-stream]\n",
            "Saving to: ‘0930SundayUntitled.2’\n",
            "\n",
            "0930SundayUntitled. 100%[===================>]   1.31G   217MB/s    in 5.7s    \n",
            "\n",
            "2019-07-23 10:25:59 (235 MB/s) - ‘0930SundayUntitled.2’ saved [1402154085/1402154085]\n",
            "\n"
          ],
          "name": "stdout"
        }
      ]
    },
    {
      "cell_type": "code",
      "metadata": {
        "colab_type": "code",
        "id": "0oisix6vXch0",
        "colab": {}
      },
      "source": [
        "import numpy as np # linear algebra\n",
        "import pandas as pd # data processing, CSV file I/O (e.g. pd.read_csv)\n",
        "import matplotlib.pyplot as plt \n",
        "import seaborn as sns\n",
        "from fastai.tabular import *"
      ],
      "execution_count": 0,
      "outputs": []
    },
    {
      "cell_type": "code",
      "metadata": {
        "colab_type": "code",
        "id": "TtrTCDtDXjyP",
        "colab": {}
      },
      "source": [
        "df = pd.read_pickle('0930SundayUntitled')"
      ],
      "execution_count": 0,
      "outputs": []
    },
    {
      "cell_type": "markdown",
      "metadata": {
        "colab_type": "text",
        "id": "2OCX5OKvYOgw"
      },
      "source": [
        "Converting the datetime objects into regular objects"
      ]
    },
    {
      "cell_type": "code",
      "metadata": {
        "colab_type": "code",
        "id": "2zLmQ-SlWvZz",
        "colab": {}
      },
      "source": [
        "df['last_pymnt_d'] = df['last_pymnt_d'].dt.strftime('%Y-%m')\n",
        "df['issue_d'] =df['issue_d'].dt.strftime('%Y-%m')\n",
        "df['last_credit_pull_d']=df['last_credit_pull_d'].dt.strftime('%Y-%m')\n",
        "df['earliest_cr_line']=df['earliest_cr_line'].dt.strftime('%Y-%m')"
      ],
      "execution_count": 0,
      "outputs": []
    },
    {
      "cell_type": "markdown",
      "metadata": {
        "colab_type": "text",
        "id": "AVOu4Q9rYHs0"
      },
      "source": [
        "Dealing with converting grade and subgrade into categories \n"
      ]
    },
    {
      "cell_type": "code",
      "metadata": {
        "colab_type": "code",
        "id": "v6sdW_WaW9xA",
        "colab": {}
      },
      "source": [
        "factor_grade = pd.factorize(df['grade'])\n",
        "df['grade'] = factor_grade[0]\n",
        "factor_subgrade = pd.factorize(df['sub_grade'])\n",
        "df['sub_grade'] = factor_subgrade[0]"
      ],
      "execution_count": 0,
      "outputs": []
    },
    {
      "cell_type": "markdown",
      "metadata": {
        "colab_type": "text",
        "id": "AF0_8L0aYFJ2"
      },
      "source": [
        "Dealing with term column"
      ]
    },
    {
      "cell_type": "code",
      "metadata": {
        "colab_type": "code",
        "id": "8rFz-gcDXEzi",
        "colab": {}
      },
      "source": [
        "df['term'].replace(to_replace='[^0-9]+', value='', inplace=True, regex=True)\n",
        "df['term']=df['term'].astype(int)"
      ],
      "execution_count": 0,
      "outputs": []
    },
    {
      "cell_type": "markdown",
      "metadata": {
        "colab_type": "text",
        "id": "kFNNRgM4XPQi"
      },
      "source": [
        "Dealing with Employment Length"
      ]
    },
    {
      "cell_type": "code",
      "metadata": {
        "colab_type": "code",
        "id": "rgGkkayJXGzB",
        "colab": {}
      },
      "source": [
        "df['emp_length']= df['emp_length'].astype(int)\n"
      ],
      "execution_count": 0,
      "outputs": []
    },
    {
      "cell_type": "code",
      "metadata": {
        "id": "L6zhmaUhl9ZC",
        "colab_type": "code",
        "colab": {}
      },
      "source": [
        "#df.to_csv('BeforeFastai.csv')"
      ],
      "execution_count": 0,
      "outputs": []
    },
    {
      "cell_type": "code",
      "metadata": {
        "id": "FKVnsf9Onbmv",
        "colab_type": "code",
        "colab": {}
      },
      "source": [
        "#df = pd.read_csv('BeforeFastai.csv')"
      ],
      "execution_count": 0,
      "outputs": []
    },
    {
      "cell_type": "code",
      "metadata": {
        "id": "TaQ5yuuEYoRr",
        "colab_type": "code",
        "colab": {}
      },
      "source": [
        "dep_var = 'grade'\n",
        "df = df.drop('sub_grade',axis=1)"
      ],
      "execution_count": 0,
      "outputs": []
    },
    {
      "cell_type": "code",
      "metadata": {
        "id": "XatAiakpY43X",
        "colab_type": "code",
        "colab": {}
      },
      "source": [
        "cat_names = df.select_dtypes(include=object).columns"
      ],
      "execution_count": 0,
      "outputs": []
    },
    {
      "cell_type": "code",
      "metadata": {
        "id": "KsPw4E-YYVaz",
        "colab_type": "code",
        "colab": {}
      },
      "source": [
        "procs = [FillMissing, Categorify, Normalize]\n",
        "\n"
      ],
      "execution_count": 0,
      "outputs": []
    },
    {
      "cell_type": "code",
      "metadata": {
        "id": "qD3lRWtdqiMG",
        "colab_type": "code",
        "colab": {}
      },
      "source": [
        "size=len(df)*0.2"
      ],
      "execution_count": 0,
      "outputs": []
    },
    {
      "cell_type": "code",
      "metadata": {
        "id": "pZ_sEiDkqbcC",
        "colab_type": "code",
        "colab": {}
      },
      "source": [
        "test_index = np.random.choice(df.index, size=int(len(df)*0.2), replace=False)"
      ],
      "execution_count": 0,
      "outputs": []
    },
    {
      "cell_type": "code",
      "metadata": {
        "id": "TSwBHn2xtJNb",
        "colab_type": "code",
        "colab": {}
      },
      "source": [
        "cont_list, cat_list = cont_cat_split(df=df, max_card=25, dep_var='grade')\n"
      ],
      "execution_count": 0,
      "outputs": []
    },
    {
      "cell_type": "code",
      "metadata": {
        "id": "Hm8mQputtPmU",
        "colab_type": "code",
        "outputId": "6f03b6ad-2550-48fb-804b-5d564573ece2",
        "colab": {
          "base_uri": "https://localhost:8080/",
          "height": 328
        }
      },
      "source": [
        "cat_list"
      ],
      "execution_count": 0,
      "outputs": [
        {
          "output_type": "execute_result",
          "data": {
            "text/plain": [
              "['term',\n",
              " 'emp_length',\n",
              " 'home_ownership',\n",
              " 'verification_status',\n",
              " 'issue_d',\n",
              " 'pymnt_plan',\n",
              " 'purpose',\n",
              " 'addr_state',\n",
              " 'earliest_cr_line',\n",
              " 'initial_list_status',\n",
              " 'last_pymnt_d',\n",
              " 'last_credit_pull_d',\n",
              " 'policy_code',\n",
              " 'application_type',\n",
              " 'hardship_flag',\n",
              " 'disbursement_method',\n",
              " 'debt_settlement_flag',\n",
              " 'TARGET']"
            ]
          },
          "metadata": {
            "tags": []
          },
          "execution_count": 40
        }
      ]
    },
    {
      "cell_type": "code",
      "metadata": {
        "id": "GV0K6kwXthZm",
        "colab_type": "code",
        "colab": {}
      },
      "source": [
        "data = TabularDataBunch.from_df('BeforeFastai.csv', df, dep_var=dep_var, valid_idx=test_index, procs=procs, cat_names=cat_list)"
      ],
      "execution_count": 0,
      "outputs": []
    },
    {
      "cell_type": "code",
      "metadata": {
        "id": "IPBIuqtlmfMG",
        "colab_type": "code",
        "colab": {}
      },
      "source": [
        "learn = tabular_learner(data, layers=[200,100], metrics=accuracy)\n"
      ],
      "execution_count": 0,
      "outputs": []
    },
    {
      "cell_type": "code",
      "metadata": {
        "id": "KJOQt0Gqt_Na",
        "colab_type": "code",
        "outputId": "7b3b918d-7747-4aa2-d0de-21a49dfdb280",
        "colab": {
          "base_uri": "https://localhost:8080/",
          "height": 78
        }
      },
      "source": [
        "learn.fit_one_cycle(1, 1e-2)\n"
      ],
      "execution_count": 0,
      "outputs": [
        {
          "output_type": "display_data",
          "data": {
            "text/html": [
              "<table border=\"1\" class=\"dataframe\">\n",
              "  <thead>\n",
              "    <tr style=\"text-align: left;\">\n",
              "      <th>epoch</th>\n",
              "      <th>train_loss</th>\n",
              "      <th>valid_loss</th>\n",
              "      <th>accuracy</th>\n",
              "      <th>time</th>\n",
              "    </tr>\n",
              "  </thead>\n",
              "  <tbody>\n",
              "    <tr>\n",
              "      <td>0</td>\n",
              "      <td>0.234671</td>\n",
              "      <td>0.180922</td>\n",
              "      <td>0.979110</td>\n",
              "      <td>12:35</td>\n",
              "    </tr>\n",
              "  </tbody>\n",
              "</table>"
            ],
            "text/plain": [
              "<IPython.core.display.HTML object>"
            ]
          },
          "metadata": {
            "tags": []
          }
        }
      ]
    },
    {
      "cell_type": "markdown",
      "metadata": {
        "id": "U976xRXLzE2p",
        "colab_type": "text"
      },
      "source": [
        "Notice that we achieved 0.979 accuracy with just one cycle trainig at 1e-2 learning rate. \n",
        "\n",
        "Training time takes **12:35 minutes** . This is a about 5 times faster than the most accurate model we tried, boosting with LightGBM, with bearable amount of performance compromise that should be able to minimized by further hyperparameter tuning. "
      ]
    },
    {
      "cell_type": "markdown",
      "metadata": {
        "id": "Vlw2QNgTx8yf",
        "colab_type": "text"
      },
      "source": [
        "# Subgrade Modeling"
      ]
    },
    {
      "cell_type": "code",
      "metadata": {
        "id": "cToX9i1IxuZT",
        "colab_type": "code",
        "colab": {}
      },
      "source": [
        "import numpy as np # linear algebra\n",
        "import pandas as pd # data processing, CSV file I/O (e.g. pd.read_csv)\n",
        "import matplotlib.pyplot as plt \n",
        "from sklearn.metrics import roc_auc_score, roc_curve\n",
        "from sklearn.model_selection import KFold, StratifiedKFold\n",
        "from lightgbm import LGBMClassifier\n",
        "import numpy as np\n",
        "import gc\n",
        "from sklearn.model_selection import cross_val_score, cross_val_predict\n",
        "from sklearn.metrics import accuracy_score, classification_report, confusion_matrix"
      ],
      "execution_count": 0,
      "outputs": []
    },
    {
      "cell_type": "code",
      "metadata": {
        "id": "cTgE6pnJxuZW",
        "colab_type": "code",
        "outputId": "4a9d8ce4-a732-4f4e-c97f-6937be1ae54f",
        "colab": {}
      },
      "source": [
        "!wget https://storage.googleapis.com/lendingclubkaggle/Before_Modeling_Grades"
      ],
      "execution_count": 0,
      "outputs": [
        {
          "output_type": "stream",
          "text": [
            "--2019-07-23 09:37:16--  https://storage.googleapis.com/lendingclubkaggle/Before_Modeling_Grades\n",
            "Resolving storage.googleapis.com (storage.googleapis.com)... 74.125.142.128, 2607:f8b0:400e:c09::80\n",
            "Connecting to storage.googleapis.com (storage.googleapis.com)|74.125.142.128|:443... connected.\n",
            "HTTP request sent, awaiting response... 200 OK\n",
            "Length: 4019800992 (3.7G) [application/octet-stream]\n",
            "Saving to: ‘Before_Modeling_Grades’\n",
            "\n",
            "Before_Modeling_Gra 100%[===================>]   3.74G   304MB/s    in 15s     \n",
            "\n",
            "2019-07-23 09:37:31 (264 MB/s) - ‘Before_Modeling_Grades’ saved [4019800992/4019800992]\n",
            "\n"
          ],
          "name": "stdout"
        }
      ]
    },
    {
      "cell_type": "code",
      "metadata": {
        "scrolled": true,
        "id": "UzlK7QObxuZY",
        "colab_type": "code",
        "colab": {}
      },
      "source": [
        "df = pd.read_pickle('Before_Modeling_Grades')"
      ],
      "execution_count": 0,
      "outputs": []
    },
    {
      "cell_type": "code",
      "metadata": {
        "id": "RFJi9zSdxuZb",
        "colab_type": "code",
        "colab": {}
      },
      "source": [
        "df = df.drop('grade', axis =1)"
      ],
      "execution_count": 0,
      "outputs": []
    },
    {
      "cell_type": "markdown",
      "metadata": {
        "id": "agGRRbgJxuZd",
        "colab_type": "text"
      },
      "source": [
        "### 1. Bagging"
      ]
    },
    {
      "cell_type": "code",
      "metadata": {
        "id": "HEQH8SELxuZd",
        "colab_type": "code",
        "colab": {}
      },
      "source": [
        "def print_score(clf, X_train, y_train, X_test, y_test, train=True):\n",
        "    if train:\n",
        "        print(\"Train Result:\\n\")\n",
        "        print(\"accuracy score: {0:.4f}\\n\".format(accuracy_score(y_train, clf.predict(X_train))))\n",
        "        print(\"Classification Report: \\n {}\\n\".format(classification_report(y_train, clf.predict(X_train))))\n",
        "        print(\"Confusion Matrix: \\n {}\\n\".format(confusion_matrix(y_train, clf.predict(X_train))))\n",
        "\n",
        "        res = cross_val_score(clf, X_train, y_train, cv=10, scoring='accuracy')\n",
        "        print(\"Average Accuracy: \\t {0:.4f}\".format(np.mean(res)))\n",
        "        print(\"Accuracy SD: \\t\\t {0:.4f}\".format(np.std(res)))\n",
        "        \n",
        "    elif train==False:\n",
        "        print(\"Test Result:\\n\")        \n",
        "        print(\"accuracy score: {0:.4f}\\n\".format(accuracy_score(y_test, clf.predict(X_test))))\n",
        "        print(\"Classification Report: \\n {}\\n\".format(classification_report(y_test, clf.predict(X_test))))\n",
        "        print(\"Confusion Matrix: \\n {}\\n\".format(confusion_matrix(y_test, clf.predict(X_test))))    "
      ],
      "execution_count": 0,
      "outputs": []
    },
    {
      "cell_type": "code",
      "metadata": {
        "id": "39ENmgQdxuZg",
        "colab_type": "code",
        "colab": {}
      },
      "source": [
        "from sklearn.model_selection import train_test_split"
      ],
      "execution_count": 0,
      "outputs": []
    },
    {
      "cell_type": "code",
      "metadata": {
        "id": "PBeKxPitxuZk",
        "colab_type": "code",
        "outputId": "9d7a6696-03f7-48bb-e2f0-d46112a6bc66",
        "colab": {}
      },
      "source": [
        "X_train, X_test, y_train, y_test = train_test_split(df.drop('sub_grade',axis=1),df['sub_grade'],test_size=0.15,random_state=101)\n",
        "gc.collect()"
      ],
      "execution_count": 0,
      "outputs": [
        {
          "output_type": "execute_result",
          "data": {
            "text/plain": [
              "57"
            ]
          },
          "metadata": {
            "tags": []
          },
          "execution_count": 6
        }
      ]
    },
    {
      "cell_type": "code",
      "metadata": {
        "id": "EoydBJQ4xuZo",
        "colab_type": "code",
        "colab": {}
      },
      "source": [
        "from sklearn.preprocessing import StandardScaler"
      ],
      "execution_count": 0,
      "outputs": []
    },
    {
      "cell_type": "code",
      "metadata": {
        "scrolled": true,
        "id": "i20yE-19xuZp",
        "colab_type": "code",
        "outputId": "faaff28b-fd65-4eb4-ca51-21d8a9a1bdfd",
        "colab": {}
      },
      "source": [
        "sc = StandardScaler()\n",
        "X_train = sc.fit_transform(X_train)\n",
        "X_test=sc.transform(X_test)"
      ],
      "execution_count": 0,
      "outputs": [
        {
          "output_type": "stream",
          "text": [
            "/home/alexanderli/anaconda3/lib/python3.7/site-packages/sklearn/preprocessing/data.py:645: DataConversionWarning: Data with input dtype uint8, int64, float64 were all converted to float64 by StandardScaler.\n",
            "  return self.partial_fit(X, y)\n",
            "/home/alexanderli/anaconda3/lib/python3.7/site-packages/sklearn/base.py:464: DataConversionWarning: Data with input dtype uint8, int64, float64 were all converted to float64 by StandardScaler.\n",
            "  return self.fit(X, **fit_params).transform(X)\n",
            "/home/alexanderli/anaconda3/lib/python3.7/site-packages/ipykernel_launcher.py:3: DataConversionWarning: Data with input dtype uint8, int64, float64 were all converted to float64 by StandardScaler.\n",
            "  This is separate from the ipykernel package so we can avoid doing imports until\n"
          ],
          "name": "stderr"
        }
      ]
    },
    {
      "cell_type": "code",
      "metadata": {
        "id": "YkFlupwLxuZt",
        "colab_type": "code",
        "colab": {}
      },
      "source": [
        "from sklearn.ensemble import RandomForestClassifier"
      ],
      "execution_count": 0,
      "outputs": []
    },
    {
      "cell_type": "code",
      "metadata": {
        "id": "i4lk3SpxxuZu",
        "colab_type": "code",
        "outputId": "2a3dec0d-e2b6-4ddd-fb92-a6f258b60d2b",
        "colab": {}
      },
      "source": [
        "clf_rf = RandomForestClassifier(n_estimators=10, random_state=21)\n",
        "clf_rf.fit(X_train, y_train)\n",
        "print_score(clf_rf, X_train, y_train, X_test, y_test, train=False)"
      ],
      "execution_count": 0,
      "outputs": [
        {
          "output_type": "stream",
          "text": [
            "Test Result:\n",
            "\n",
            "accuracy score: 0.2473\n",
            "\n",
            "Classification Report: \n",
            "               precision    recall  f1-score   support\n",
            "\n",
            "           0       0.21      0.41      0.28     21033\n",
            "           1       0.12      0.19      0.15     10328\n",
            "           2       0.14      0.18      0.16     11777\n",
            "           3       0.20      0.29      0.24     18524\n",
            "           4       0.20      0.24      0.22     18653\n",
            "           5       0.19      0.20      0.19     19187\n",
            "           6       0.12      0.09      0.10      6906\n",
            "           7       0.23      0.29      0.26     18524\n",
            "           8       0.28      0.37      0.32     13608\n",
            "           9       0.29      0.28      0.29     19849\n",
            "          10       0.21      0.18      0.19     16889\n",
            "          11       0.12      0.07      0.09      8162\n",
            "          12       0.10      0.05      0.07      4684\n",
            "          13       0.10      0.04      0.05      3242\n",
            "          14       0.29      0.25      0.27     20010\n",
            "          15       0.13      0.07      0.09      9201\n",
            "          16       0.70      0.84      0.76     12757\n",
            "          17       0.11      0.04      0.06      3182\n",
            "          18       0.27      0.22      0.24     18411\n",
            "          19       0.30      0.24      0.27     17999\n",
            "          20       0.32      0.23      0.27     15385\n",
            "          21       0.04      0.01      0.01       711\n",
            "          22       0.32      0.19      0.24     10489\n",
            "          23       0.10      0.03      0.05      3869\n",
            "          24       0.44      0.25      0.31     10163\n",
            "          25       0.10      0.03      0.05      4217\n",
            "          26       0.09      0.01      0.02       881\n",
            "          27       0.05      0.01      0.01       559\n",
            "          28       0.06      0.01      0.01       376\n",
            "          29       0.09      0.02      0.03      1929\n",
            "          30       0.05      0.01      0.01      1249\n",
            "          31       0.07      0.01      0.02      1037\n",
            "          32       0.08      0.00      0.01       213\n",
            "          33       0.00      0.00      0.00       310\n",
            "          34       0.00      0.00      0.00       210\n",
            "\n",
            "   micro avg       0.25      0.25      0.25    324524\n",
            "   macro avg       0.17      0.15      0.15    324524\n",
            "weighted avg       0.24      0.25      0.24    324524\n",
            "\n",
            "\n",
            "Confusion Matrix: \n",
            " [[8577  289  377 ...    0    0    0]\n",
            " [1038 1916 1525 ...    0    0    0]\n",
            " [1196 1599 2163 ...    0    0    0]\n",
            " ...\n",
            " [   6   25   17 ...    1    0    0]\n",
            " [  13   38   25 ...    0    0    0]\n",
            " [   9   27   16 ...    1    0    0]]\n",
            "\n"
          ],
          "name": "stdout"
        }
      ]
    },
    {
      "cell_type": "markdown",
      "metadata": {
        "id": "MhVroC1vyGOs",
        "colab_type": "text"
      },
      "source": [
        "We are not very happy with the **0.24** accuracy. Let us proceed to boosting with LightGBM for subgrade classification"
      ]
    },
    {
      "cell_type": "markdown",
      "metadata": {
        "id": "A8X4dsOqxuZ0",
        "colab_type": "text"
      },
      "source": [
        "### 2. Boosting"
      ]
    },
    {
      "cell_type": "code",
      "metadata": {
        "id": "9q8yNqzKxuZ2",
        "colab_type": "code",
        "colab": {}
      },
      "source": [
        "def kfold_lightgbm(train_df, num_folds, stratified = False):\n",
        "    print(\"Starting LightGBM. Train shape: {}\".format(train_df.shape))\n",
        "    \n",
        "    # Cross validation model\n",
        "    if stratified:\n",
        "        folds = StratifiedKFold(n_splits= num_folds, shuffle=True, random_state=47)\n",
        "    else:\n",
        "        folds = KFold(n_splits= num_folds, shuffle=True, random_state=47)\n",
        "\n",
        "    oof_preds = np.zeros(train_df.shape[0])\n",
        "\n",
        "    feature_importance_df = pd.DataFrame()\n",
        "    feats = [f for f in train_df.columns if f not in ['sub_grade']]\n",
        "    \n",
        "    # Splitting the training set into folds for Cross Validation\n",
        "    for n_fold, (train_idx, valid_idx) in enumerate(folds.split(train_df[feats], train_df['sub_grade'])):\n",
        "        train_x, train_y = train_df[feats].iloc[train_idx], train_df['sub_grade'].iloc[train_idx]\n",
        "        valid_x, valid_y = train_df[feats].iloc[valid_idx], train_df['sub_grade'].iloc[valid_idx]\n",
        "\n",
        "        # LightGBM parameters found by Bayesian optimization\n",
        "        clf = LGBMClassifier(\n",
        "            nthread=12,#previous number 4\n",
        "            n_estimators=1000, # Previous number 10000\n",
        "            learning_rate=0.02,\n",
        "            num_leaves=32,\n",
        "            colsample_bytree=0.9497036,\n",
        "            subsample=0.8715623,\n",
        "            max_depth=8,\n",
        "            reg_alpha=0.04,\n",
        "            reg_lambda=0.073,\n",
        "            min_split_gain=0.0222415,\n",
        "            min_child_weight=40,\n",
        "            silent=-1,\n",
        "            verbose=-1\n",
        "            #device_type=gpu,gpu_platform_id= 0,gpu_device_id= 0\n",
        "            )\n",
        "\n",
        "        # Fitting the model and evaluating by AUC\n",
        "        clf.fit(train_x, train_y, eval_set=[(train_x, train_y), (valid_x, valid_y)], \n",
        "            eval_metric= 'logloss', verbose= 1000, early_stopping_rounds= 200)\n",
        "        print_score(clf, train_x, train_y, valid_x, valid_y, train=False)\n",
        "        # Dataframe holding the different features and their importance\n",
        "        fold_importance_df = pd.DataFrame()\n",
        "        fold_importance_df[\"feature\"] = feats\n",
        "        fold_importance_df[\"importance\"] = clf.feature_importances_\n",
        "        fold_importance_df[\"fold\"] = n_fold + 1\n",
        "        feature_importance_df = pd.concat([feature_importance_df, fold_importance_df], axis=0)\n",
        "        \n",
        "        # Freeing up memory\n",
        "        del clf, train_x, train_y, valid_x, valid_y\n",
        "\n",
        "    display_importances(feature_importance_df)\n",
        "    return feature_importance_df"
      ],
      "execution_count": 0,
      "outputs": []
    },
    {
      "cell_type": "code",
      "metadata": {
        "id": "3Cp2JnB9xuZ4",
        "colab_type": "code",
        "colab": {}
      },
      "source": [
        "def print_score(clf, X_train, y_train, X_test, y_test, train=True):\n",
        "    if train:\n",
        "        print(\"Train Result:\\n\")\n",
        "        print(\"accuracy score: {0:.4f}\\n\".format(accuracy_score(y_train, clf.predict(X_train))))\n",
        "        print(\"Classification Report: \\n {}\\n\".format(classification_report(y_train, clf.predict(X_train))))\n",
        "        print(\"Confusion Matrix: \\n {}\\n\".format(confusion_matrix(y_train, clf.predict(X_train))))\n",
        "\n",
        "        res = cross_val_score(clf, X_train, y_train, cv=10, scoring='accuracy')\n",
        "        print(\"Average Accuracy: \\t {0:.4f}\".format(np.mean(res)))\n",
        "        print(\"Accuracy SD: \\t\\t {0:.4f}\".format(np.std(res)))\n",
        "        \n",
        "    elif train==False:\n",
        "        print(\"Test Result:\\n\")        \n",
        "        print(\"accuracy score: {0:.4f}\\n\".format(accuracy_score(y_test, clf.predict(X_test))))\n",
        "        print(\"Classification Report: \\n {}\\n\".format(classification_report(y_test, clf.predict(X_test))))\n",
        "        print(\"Confusion Matrix: \\n {}\\n\".format(confusion_matrix(y_test, clf.predict(X_test))))  "
      ],
      "execution_count": 0,
      "outputs": []
    },
    {
      "cell_type": "code",
      "metadata": {
        "id": "c-0VF--JxuZ5",
        "colab_type": "code",
        "colab": {}
      },
      "source": [
        "def display_importances(feature_importance_df_):\n",
        "    cols = feature_importance_df_[[\"feature\", \"importance\"]].groupby(\"feature\").mean().sort_values(by=\"importance\", ascending=False)[:40].index\n",
        "    best_features = feature_importance_df_.loc[feature_importance_df_.feature.isin(cols)]\n",
        "    plt.figure(figsize=(15, 12))\n",
        "    sns.barplot(x=\"importance\", y=\"feature\", data=best_features.sort_values(by=\"importance\", ascending=False))\n",
        "    plt.title('LightGBM Features (avg over folds)')\n",
        "    plt.tight_layout()\n",
        "    plt.savefig('lgbm_importances.png')"
      ],
      "execution_count": 0,
      "outputs": []
    },
    {
      "cell_type": "code",
      "metadata": {
        "id": "kYPNnASuxuZ6",
        "colab_type": "code",
        "outputId": "d1093573-1601-4f25-e01c-b96f9ede309d",
        "colab": {}
      },
      "source": [
        "feat_importance = kfold_lightgbm(df, num_folds= 3, stratified= False)"
      ],
      "execution_count": 0,
      "outputs": [
        {
          "output_type": "stream",
          "text": [
            "Starting LightGBM. Train shape: (2163488, 1317)\n",
            "Training until validation scores don't improve for 200 rounds.\n",
            "[1000]\ttraining's multi_logloss: 0.0297969\ttraining's multi_logloss: 0.0297969\tvalid_1's multi_logloss: 0.0331216\tvalid_1's multi_logloss: 0.0331216\n",
            "Did not meet early stopping. Best iteration is:\n",
            "[1000]\ttraining's multi_logloss: 0.0297969\ttraining's multi_logloss: 0.0297969\tvalid_1's multi_logloss: 0.0331216\tvalid_1's multi_logloss: 0.0331216\n",
            "Test Result:\n",
            "\n",
            "accuracy score: 0.9939\n",
            "\n",
            "Classification Report: \n",
            "               precision    recall  f1-score   support\n",
            "\n",
            "           0       1.00      1.00      1.00     46494\n",
            "           1       1.00      1.00      1.00     23194\n",
            "           2       0.99      1.00      1.00     26055\n",
            "           3       1.00      0.99      1.00     41323\n",
            "           4       1.00      1.00      1.00     41861\n",
            "           5       1.00      1.00      1.00     41975\n",
            "           6       0.99      0.99      0.99     15482\n",
            "           7       0.99      1.00      1.00     41712\n",
            "           8       1.00      1.00      1.00     30072\n",
            "           9       1.00      1.00      1.00     44660\n",
            "          10       1.00      0.99      0.99     37672\n",
            "          11       0.99      0.99      0.99     18095\n",
            "          12       0.99      0.98      0.99     10397\n",
            "          13       0.99      0.99      0.99      7114\n",
            "          14       1.00      1.00      1.00     44572\n",
            "          15       1.00      0.99      1.00     20386\n",
            "          16       1.00      1.00      1.00     28086\n",
            "          17       0.96      0.97      0.97      7162\n",
            "          18       1.00      0.99      1.00     40449\n",
            "          19       1.00      1.00      1.00     40264\n",
            "          20       1.00      1.00      1.00     33933\n",
            "          21       0.90      0.83      0.86      1613\n",
            "          22       1.00      1.00      1.00     23297\n",
            "          23       0.99      0.99      0.99      8385\n",
            "          24       1.00      1.00      1.00     22199\n",
            "          25       0.98      0.98      0.98      9517\n",
            "          26       0.87      0.90      0.88      1930\n",
            "          27       0.88      0.92      0.90      1242\n",
            "          28       0.89      0.78      0.83       867\n",
            "          29       0.97      0.99      0.98      4221\n",
            "          30       0.94      0.96      0.95      2938\n",
            "          31       0.93      0.92      0.92      2360\n",
            "          32       0.80      0.65      0.72       523\n",
            "          33       0.74      0.73      0.74       659\n",
            "          34       0.86      0.75      0.80       454\n",
            "\n",
            "   micro avg       0.99      0.99      0.99    721163\n",
            "   macro avg       0.96      0.95      0.95    721163\n",
            "weighted avg       0.99      0.99      0.99    721163\n",
            "\n",
            "\n",
            "Confusion Matrix: \n",
            " [[46364     0     0 ...     0     0     0]\n",
            " [    0 23091     0 ...     0     0     0]\n",
            " [    0     0 26040 ...     0     0     0]\n",
            " ...\n",
            " [    0     0     0 ...   342   103     0]\n",
            " [    0     0     0 ...    70   484     0]\n",
            " [    0     0     0 ...     0     0   340]]\n",
            "\n",
            "Training until validation scores don't improve for 200 rounds.\n"
          ],
          "name": "stdout"
        }
      ]
    },
    {
      "cell_type": "markdown",
      "metadata": {
        "id": "uo0dulEiySTu",
        "colab_type": "text"
      },
      "source": [
        "Even though we do not have enough time to finish the training (taking more than 3 hours, and still running), we can still see that we achieved some really impressive performance level at **0.9939**"
      ]
    },
    {
      "cell_type": "markdown",
      "metadata": {
        "id": "oK50Agbkykxe",
        "colab_type": "text"
      },
      "source": [
        "## Fast.AI neural nets"
      ]
    },
    {
      "cell_type": "markdown",
      "metadata": {
        "id": "C7YqKpRf5HGF",
        "colab_type": "text"
      },
      "source": [
        "Importing the data"
      ]
    },
    {
      "cell_type": "code",
      "metadata": {
        "colab_type": "code",
        "outputId": "46d39817-c5a5-4c33-9e55-e23bc22344fe",
        "id": "1__DDGrb5FUx",
        "colab": {
          "base_uri": "https://localhost:8080/",
          "height": 207
        }
      },
      "source": [
        "!wget https://storage.googleapis.com/lendingclubkaggle/0930SundayUntitled"
      ],
      "execution_count": 0,
      "outputs": [
        {
          "output_type": "stream",
          "text": [
            "--2019-07-23 11:36:50--  https://storage.googleapis.com/lendingclubkaggle/0930SundayUntitled\n",
            "Resolving storage.googleapis.com (storage.googleapis.com)... 74.125.141.128, 2607:f8b0:400c:c06::80\n",
            "Connecting to storage.googleapis.com (storage.googleapis.com)|74.125.141.128|:443... connected.\n",
            "HTTP request sent, awaiting response... 200 OK\n",
            "Length: 1402154085 (1.3G) [application/octet-stream]\n",
            "Saving to: ‘0930SundayUntitled’\n",
            "\n",
            "0930SundayUntitled  100%[===================>]   1.31G   205MB/s    in 6.7s    \n",
            "\n",
            "2019-07-23 11:36:56 (199 MB/s) - ‘0930SundayUntitled’ saved [1402154085/1402154085]\n",
            "\n"
          ],
          "name": "stdout"
        }
      ]
    },
    {
      "cell_type": "code",
      "metadata": {
        "colab_type": "code",
        "id": "T5bNmbOM5FU5",
        "colab": {}
      },
      "source": [
        "import numpy as np # linear algebra\n",
        "import pandas as pd # data processing, CSV file I/O (e.g. pd.read_csv)\n",
        "import matplotlib.pyplot as plt \n",
        "import seaborn as sns\n",
        "from fastai.tabular import *"
      ],
      "execution_count": 0,
      "outputs": []
    },
    {
      "cell_type": "code",
      "metadata": {
        "colab_type": "code",
        "id": "rTkp7YYu5FU7",
        "colab": {}
      },
      "source": [
        "df = pd.read_pickle('0930SundayUntitled')"
      ],
      "execution_count": 0,
      "outputs": []
    },
    {
      "cell_type": "markdown",
      "metadata": {
        "colab_type": "text",
        "id": "JXdOO0xJ5FU9"
      },
      "source": [
        "Converting the datetime objects into regular objects"
      ]
    },
    {
      "cell_type": "code",
      "metadata": {
        "colab_type": "code",
        "id": "YbtJ5VfU5FU-",
        "colab": {}
      },
      "source": [
        "df['last_pymnt_d'] = df['last_pymnt_d'].dt.strftime('%Y-%m')\n",
        "df['issue_d'] =df['issue_d'].dt.strftime('%Y-%m')\n",
        "df['last_credit_pull_d']=df['last_credit_pull_d'].dt.strftime('%Y-%m')\n",
        "df['earliest_cr_line']=df['earliest_cr_line'].dt.strftime('%Y-%m')"
      ],
      "execution_count": 0,
      "outputs": []
    },
    {
      "cell_type": "markdown",
      "metadata": {
        "colab_type": "text",
        "id": "Zii1Jv_p5FU_"
      },
      "source": [
        "Dealing with converting grade and subgrade into categories \n"
      ]
    },
    {
      "cell_type": "code",
      "metadata": {
        "colab_type": "code",
        "id": "KHJzr2q95FVA",
        "colab": {}
      },
      "source": [
        "factor_grade = pd.factorize(df['grade'])\n",
        "df['grade'] = factor_grade[0]\n",
        "factor_subgrade = pd.factorize(df['sub_grade'])\n",
        "df['sub_grade'] = factor_subgrade[0]"
      ],
      "execution_count": 0,
      "outputs": []
    },
    {
      "cell_type": "markdown",
      "metadata": {
        "colab_type": "text",
        "id": "m7dRBrBy5FVF"
      },
      "source": [
        "Dealing with term column"
      ]
    },
    {
      "cell_type": "code",
      "metadata": {
        "colab_type": "code",
        "id": "5T__GxK05FVG",
        "colab": {}
      },
      "source": [
        "df['term'].replace(to_replace='[^0-9]+', value='', inplace=True, regex=True)\n",
        "df['term']=df['term'].astype(int)"
      ],
      "execution_count": 0,
      "outputs": []
    },
    {
      "cell_type": "markdown",
      "metadata": {
        "colab_type": "text",
        "id": "FOBMJiI55FVI"
      },
      "source": [
        "Dealing with Employment Length"
      ]
    },
    {
      "cell_type": "code",
      "metadata": {
        "colab_type": "code",
        "id": "qVcO9b5t5FVJ",
        "colab": {}
      },
      "source": [
        "df['emp_length']= df['emp_length'].astype(int)\n"
      ],
      "execution_count": 0,
      "outputs": []
    },
    {
      "cell_type": "code",
      "metadata": {
        "colab_type": "code",
        "id": "meMSp1Vp5FVN",
        "colab": {}
      },
      "source": [
        "df.to_csv('BeforeFastai.csv')"
      ],
      "execution_count": 0,
      "outputs": []
    },
    {
      "cell_type": "code",
      "metadata": {
        "colab_type": "code",
        "id": "tIkZHElv5FVP",
        "colab": {}
      },
      "source": [
        "df = pd.read_csv('BeforeFastai.csv')"
      ],
      "execution_count": 0,
      "outputs": []
    },
    {
      "cell_type": "code",
      "metadata": {
        "colab_type": "code",
        "id": "Zh0sdPD_5FVS",
        "colab": {}
      },
      "source": [
        "dep_var = 'sub_grade'\n",
        "df = df.drop('grade',axis=1)"
      ],
      "execution_count": 0,
      "outputs": []
    },
    {
      "cell_type": "code",
      "metadata": {
        "colab_type": "code",
        "id": "6g07FWSv5FVU",
        "colab": {}
      },
      "source": [
        "cat_names = df.select_dtypes(include=object).columns"
      ],
      "execution_count": 0,
      "outputs": []
    },
    {
      "cell_type": "code",
      "metadata": {
        "colab_type": "code",
        "id": "BK_VHSEe5FVW",
        "colab": {}
      },
      "source": [
        "procs = [FillMissing, Categorify, Normalize]\n",
        "\n"
      ],
      "execution_count": 0,
      "outputs": []
    },
    {
      "cell_type": "code",
      "metadata": {
        "colab_type": "code",
        "id": "BiY590XH5FVb",
        "colab": {}
      },
      "source": [
        "size=len(df)*0.2"
      ],
      "execution_count": 0,
      "outputs": []
    },
    {
      "cell_type": "code",
      "metadata": {
        "colab_type": "code",
        "id": "T4z3CIPj5FVg",
        "colab": {}
      },
      "source": [
        "test_index = np.random.choice(df.index, size=int(len(df)*0.2), replace=False)"
      ],
      "execution_count": 0,
      "outputs": []
    },
    {
      "cell_type": "code",
      "metadata": {
        "colab_type": "code",
        "id": "5uArojTV5FVh",
        "colab": {}
      },
      "source": [
        "cont_list, cat_list = cont_cat_split(df=df, max_card=25, dep_var='sub_grade')\n"
      ],
      "execution_count": 0,
      "outputs": []
    },
    {
      "cell_type": "code",
      "metadata": {
        "colab_type": "code",
        "outputId": "1f229c8d-1615-4a1d-992b-7b4565a4db7f",
        "id": "pw4TbKC_5FVi",
        "colab": {
          "base_uri": "https://localhost:8080/",
          "height": 328
        }
      },
      "source": [
        "cat_list"
      ],
      "execution_count": 0,
      "outputs": [
        {
          "output_type": "execute_result",
          "data": {
            "text/plain": [
              "['term',\n",
              " 'emp_length',\n",
              " 'home_ownership',\n",
              " 'verification_status',\n",
              " 'issue_d',\n",
              " 'pymnt_plan',\n",
              " 'purpose',\n",
              " 'addr_state',\n",
              " 'earliest_cr_line',\n",
              " 'initial_list_status',\n",
              " 'last_pymnt_d',\n",
              " 'last_credit_pull_d',\n",
              " 'policy_code',\n",
              " 'application_type',\n",
              " 'hardship_flag',\n",
              " 'disbursement_method',\n",
              " 'debt_settlement_flag',\n",
              " 'TARGET']"
            ]
          },
          "metadata": {
            "tags": []
          },
          "execution_count": 73
        }
      ]
    },
    {
      "cell_type": "code",
      "metadata": {
        "colab_type": "code",
        "id": "Q6ApZeXI5FVl",
        "colab": {}
      },
      "source": [
        "data = TabularDataBunch.from_df('BeforeFastai.csv', df, dep_var=dep_var, valid_idx=test_index, procs=procs, cat_names=cat_list)"
      ],
      "execution_count": 0,
      "outputs": []
    },
    {
      "cell_type": "code",
      "metadata": {
        "colab_type": "code",
        "id": "1jmqpJzU5FVl",
        "colab": {}
      },
      "source": [
        "learn = tabular_learner(data, layers=[200,100], metrics=accuracy)\n"
      ],
      "execution_count": 0,
      "outputs": []
    },
    {
      "cell_type": "code",
      "metadata": {
        "colab_type": "code",
        "outputId": "7ddbd9d9-f6c9-4a18-8822-a17e438a2449",
        "id": "vuWYds915FVo",
        "colab": {
          "base_uri": "https://localhost:8080/",
          "height": 78
        }
      },
      "source": [
        "learn.fit_one_cycle(1, 1e-2)\n"
      ],
      "execution_count": 0,
      "outputs": [
        {
          "output_type": "display_data",
          "data": {
            "text/html": [
              "<table border=\"1\" class=\"dataframe\">\n",
              "  <thead>\n",
              "    <tr style=\"text-align: left;\">\n",
              "      <th>epoch</th>\n",
              "      <th>train_loss</th>\n",
              "      <th>valid_loss</th>\n",
              "      <th>accuracy</th>\n",
              "      <th>time</th>\n",
              "    </tr>\n",
              "  </thead>\n",
              "  <tbody>\n",
              "    <tr>\n",
              "      <td>0</td>\n",
              "      <td>1.162667</td>\n",
              "      <td>103.812439</td>\n",
              "      <td>0.877249</td>\n",
              "      <td>12:54</td>\n",
              "    </tr>\n",
              "  </tbody>\n",
              "</table>"
            ],
            "text/plain": [
              "<IPython.core.display.HTML object>"
            ]
          },
          "metadata": {
            "tags": []
          }
        }
      ]
    },
    {
      "cell_type": "markdown",
      "metadata": {
        "id": "jwsVrmbg5ZrC",
        "colab_type": "text"
      },
      "source": [
        "We are very happy with being able to achieve 0.877249 accuracy, with just 12:54 minutes of time in **fastai**. Compared to 0.9939 with **boosting** and 0.24 with **bagging**(random forrest), fast ai achieves accpetable amount of accuracy with less than one tenth training than than boosting. "
      ]
    },
    {
      "cell_type": "markdown",
      "metadata": {
        "id": "Nk53Nt5V6Fzn",
        "colab_type": "text"
      },
      "source": [
        "# Final Remark\n",
        "\n",
        "In both cases of modeling grading and subgrading, we see that the fast.ai neural nets are the best model in terms of best balance between training time and performance. In production environment, we might still use LightGBM and boosting for the ultimate benchmark. But during traiing, it is both too long and distracting to use any training method that simply takes more than a cup-of-coffee time. \n",
        "![alt text](https://storage.googleapis.com/lendingclubkaggle/Screen%20Shot%202019-07-23%20at%206.04.12%20AM.png)\n",
        "The above picture shows that our boosting training havn't stopped after 3 hours of using 12 high-powered cpu, with early stopping enabled and turned on in the LightGBM module\n",
        "\n",
        "* why cup-of-coffee time is important? \n",
        "\n",
        "If it takes more than what is needed to consume a cup of coffee, our data scientists would most likely be distracted during training. He/She might be browsing Hackernews, going to social media, engage in small talks, and he/she will most likely forget what hyperparameters were used along the way. As a enginner, we really want the flow to stay productive.\n",
        "\n",
        "\n",
        "All rights reserved. \n",
        "Alex Shengzhi Li\n",
        "alex@alexli.me\n"
      ]
    }
  ]
}